{
  "nbformat": 4,
  "nbformat_minor": 0,
  "metadata": {
    "colab": {
      "provenance": [],
      "gpuType": "T4",
      "mount_file_id": "1ypwUvsCkKbluH7Ss4wHPHtEZxUmwoiTk",
      "authorship_tag": "ABX9TyPHLtjKigXtI4CDAONgs9tD",
      "include_colab_link": true
    },
    "kernelspec": {
      "name": "python3",
      "display_name": "Python 3"
    },
    "language_info": {
      "name": "python"
    },
    "accelerator": "GPU"
  },
  "cells": [
    {
      "cell_type": "markdown",
      "metadata": {
        "id": "view-in-github",
        "colab_type": "text"
      },
      "source": [
        "<a href=\"https://colab.research.google.com/github/Mominul-Islam-cmd/Road-Condition-Detection-and-Crowdsourced-Data-Collection-for-Accident-Prevention/blob/main/Road_ResNet_Code.ipynb\" target=\"_parent\"><img src=\"https://colab.research.google.com/assets/colab-badge.svg\" alt=\"Open In Colab\"/></a>"
      ]
    },
    {
      "cell_type": "code",
      "source": [
        "import torch\n",
        "import torch.nn as nn\n",
        "import torch.optim as optim\n",
        "import torchvision.transforms as transforms\n",
        "import torchvision.datasets as datasets\n",
        "import torchvision.models as models\n",
        "import torch.utils.data as data\n",
        "\n",
        "\n",
        "data_dir = '/content/drive/MyDrive/Research_paper/Data/new multiclass update data/train'\n",
        "input_size = 128\n",
        "batch_size = 32\n",
        "num_classes = 3\n",
        "\n",
        "\n",
        "data_transforms = transforms.Compose([\n",
        "    transforms.Resize((input_size, input_size)),\n",
        "    transforms.ToTensor(),\n",
        "    transforms.Normalize(mean=[0.485, 0.456, 0.406], std=[0.229, 0.224, 0.225])\n",
        "])\n",
        "\n",
        "dataset = datasets.ImageFolder(data_dir, transform=data_transforms)\n",
        "\n",
        "\n",
        "train_size = int(0.9 * len(dataset))\n",
        "val_size = len(dataset) - train_size\n",
        "\n",
        "train_dataset, val_dataset = data.random_split(dataset, [train_size, val_size])\n",
        "\n",
        "\n",
        "train_loader = data.DataLoader(train_dataset, batch_size=batch_size, shuffle=True, num_workers=4)\n",
        "val_loader = data.DataLoader(val_dataset, batch_size=batch_size, shuffle=False, num_workers=4)\n",
        "\n",
        "#  Load and Modify ResNet Model\n",
        "model = models.resnet50(pretrained=True)\n",
        "model.fc = nn.Linear(model.fc.in_features, num_classes)\n",
        "\n",
        "# Define Loss Function and Optimizer\n",
        "criterion = nn.CrossEntropyLoss()\n",
        "optimizer = optim.SGD(model.parameters(), lr=0.001, momentum=0.9)\n",
        "\n",
        "#  Train the Model\n",
        "num_epochs = 10\n",
        "device = torch.device(\"cuda\" if torch.cuda.is_available() else \"cpu\")\n",
        "model = model.to(device)\n",
        "\n",
        "for epoch in range(num_epochs):\n",
        "    # Training\n",
        "    model.train()\n",
        "    train_loss = 0.0\n",
        "    train_correct = 0\n",
        "\n",
        "    for images, labels in train_loader:\n",
        "        images = images.to(device)\n",
        "        labels = labels.to(device)\n",
        "\n",
        "        optimizer.zero_grad()\n",
        "        outputs = model(images)\n",
        "        _, predicted = torch.max(outputs.data, 1)\n",
        "        loss = criterion(outputs, labels)\n",
        "\n",
        "        loss.backward()\n",
        "        optimizer.step()\n",
        "\n",
        "        train_loss += loss.item() * images.size(0)\n",
        "        train_correct += (predicted == labels).sum().item()\n",
        "\n",
        "    train_loss = train_loss / len(train_dataset)\n",
        "    train_accuracy = 100.0 * train_correct / len(train_dataset)\n",
        "\n",
        "    # Validation\n",
        "    model.eval()\n",
        "    val_loss = 0.0\n",
        "    val_correct = 0\n",
        "\n",
        "    with torch.no_grad():\n",
        "        for images, labels in val_loader:\n",
        "            images = images.to(device)\n",
        "            labels = labels.to(device)\n",
        "\n",
        "            outputs = model(images)\n",
        "            _, predicted = torch.max(outputs.data, 1)\n",
        "            loss = criterion(outputs, labels)\n",
        "\n",
        "            val_loss += loss.item() * images.size(0)\n",
        "            val_correct += (predicted == labels).sum().item()\n",
        "\n",
        "    val_loss = val_loss / len(val_dataset)\n",
        "    val_accuracy = 100.0 * val_correct / len(val_dataset)\n",
        "\n",
        "    # Print epoch statistics\n",
        "    print(f\"Epoch {epoch + 1}/{num_epochs}\")\n",
        "    print(f\"Train Loss: {train_loss:.4f} | Train Accuracy: {train_accuracy:.2f}%\")\n",
        "    print(f\"Val Loss: {val_loss:.4f} | Val Accuracy: {val_accuracy:.2f}%\")\n",
        "    print('-' * 50)\n"
      ],
      "metadata": {
        "colab": {
          "base_uri": "https://localhost:8080/"
        },
        "id": "gaLK24Ld62xB",
        "outputId": "004337a5-ad5c-4232-cd58-c95aebe78716"
      },
      "execution_count": null,
      "outputs": [
        {
          "metadata": {
            "tags": null
          },
          "name": "stderr",
          "output_type": "stream",
          "text": [
            "/usr/local/lib/python3.9/dist-packages/torch/utils/data/dataloader.py:561: UserWarning: This DataLoader will create 4 worker processes in total. Our suggested max number of worker in current system is 2, which is smaller than what this DataLoader is going to create. Please be aware that excessive worker creation might get DataLoader running slow or even freeze, lower the worker number to avoid potential slowness/freeze if necessary.\n",
            "  warnings.warn(_create_warning_msg(\n",
            "/usr/local/lib/python3.9/dist-packages/torchvision/models/_utils.py:208: UserWarning: The parameter 'pretrained' is deprecated since 0.13 and may be removed in the future, please use 'weights' instead.\n",
            "  warnings.warn(\n",
            "/usr/local/lib/python3.9/dist-packages/torchvision/models/_utils.py:223: UserWarning: Arguments other than a weight enum or `None` for 'weights' are deprecated since 0.13 and may be removed in the future. The current behavior is equivalent to passing `weights=ResNet50_Weights.IMAGENET1K_V1`. You can also use `weights=ResNet50_Weights.DEFAULT` to get the most up-to-date weights.\n",
            "  warnings.warn(msg)\n"
          ]
        },
        {
          "output_type": "stream",
          "name": "stdout",
          "text": [
            "Epoch 1/10\n",
            "Train Loss: 0.5960 | Train Accuracy: 75.31%\n",
            "Val Loss: 0.3679 | Val Accuracy: 85.53%\n",
            "--------------------------------------------------\n",
            "Epoch 2/10\n",
            "Train Loss: 0.2979 | Train Accuracy: 87.82%\n",
            "Val Loss: 0.3538 | Val Accuracy: 86.18%\n",
            "--------------------------------------------------\n",
            "Epoch 3/10\n",
            "Train Loss: 0.1401 | Train Accuracy: 95.17%\n",
            "Val Loss: 0.3505 | Val Accuracy: 87.17%\n",
            "--------------------------------------------------\n",
            "Epoch 4/10\n",
            "Train Loss: 0.0768 | Train Accuracy: 97.51%\n",
            "Val Loss: 0.4450 | Val Accuracy: 87.17%\n",
            "--------------------------------------------------\n",
            "Epoch 5/10\n",
            "Train Loss: 0.0453 | Train Accuracy: 98.90%\n",
            "Val Loss: 0.4439 | Val Accuracy: 86.84%\n",
            "--------------------------------------------------\n",
            "Epoch 6/10\n",
            "Train Loss: 0.0287 | Train Accuracy: 99.34%\n",
            "Val Loss: 0.4894 | Val Accuracy: 85.86%\n",
            "--------------------------------------------------\n",
            "Epoch 7/10\n",
            "Train Loss: 0.0235 | Train Accuracy: 99.52%\n",
            "Val Loss: 0.4760 | Val Accuracy: 85.86%\n",
            "--------------------------------------------------\n",
            "Epoch 8/10\n",
            "Train Loss: 0.0194 | Train Accuracy: 99.49%\n",
            "Val Loss: 0.5989 | Val Accuracy: 84.21%\n",
            "--------------------------------------------------\n",
            "Epoch 9/10\n",
            "Train Loss: 0.0288 | Train Accuracy: 99.20%\n",
            "Val Loss: 0.5874 | Val Accuracy: 85.20%\n",
            "--------------------------------------------------\n",
            "Epoch 10/10\n",
            "Train Loss: 0.0148 | Train Accuracy: 99.63%\n",
            "Val Loss: 0.5489 | Val Accuracy: 85.20%\n",
            "--------------------------------------------------\n"
          ]
        }
      ]
    },
    {
      "cell_type": "code",
      "source": [
        "test_dataset = datasets.ImageFolder('/content/drive/MyDrive/Research_paper/Data/new multiclass update data/test', transform=data_transforms)\n",
        "test_loader = data.DataLoader(test_dataset, batch_size=batch_size, shuffle=False, num_workers=4)"
      ],
      "metadata": {
        "id": "4uF-WDl7q6U7"
      },
      "execution_count": null,
      "outputs": []
    },
    {
      "cell_type": "code",
      "source": [
        "model.eval()\n",
        "test_loss = 0.0\n",
        "test_correct = 0\n",
        "\n",
        "with torch.no_grad():\n",
        "    for images, labels in test_loader:\n",
        "        images = images.to(device)\n",
        "        labels = labels.to(device)\n",
        "\n",
        "        outputs = model(images)\n",
        "\n",
        "]\n",
        "        _, predicted = torch.max(outputs.data, 1)\n",
        "        loss = criterion(outputs, labels)\n",
        "\n",
        "        test_loss += loss.item() * images.size(0)\n",
        "        test_correct += (predicted == labels).sum().item()\n",
        "\n",
        "test_loss = test_loss / len(test_dataset)\n",
        "test_accuracy = 100.0 * test_correct / len(test_dataset)\n",
        "\n",
        "print(f\"Test Loss: {test_loss:.4f} | Test Accuracy: {test_accuracy:.2f}%\")"
      ],
      "metadata": {
        "colab": {
          "base_uri": "https://localhost:8080/"
        },
        "id": "UKeVmBQo7MTZ",
        "outputId": "6577fcec-4919-4597-e38c-910c08b08882"
      },
      "execution_count": null,
      "outputs": [
        {
          "output_type": "stream",
          "name": "stdout",
          "text": [
            "Test Loss: 0.4728 | Test Accuracy: 86.65%\n"
          ]
        }
      ]
    },
    {
      "cell_type": "code",
      "source": [
        "import numpy as np\n",
        "from sklearn.metrics import confusion_matrix\n",
        "import matplotlib.pyplot as plt"
      ],
      "metadata": {
        "id": "mwp5GJ-g8KFu"
      },
      "execution_count": null,
      "outputs": []
    },
    {
      "cell_type": "code",
      "source": [
        "from sklearn.metrics import confusion_matrix\n",
        "import numpy as np\n",
        "\n",
        "model.eval()\n",
        "\n",
        "\n",
        "all_predictions = []\n",
        "all_labels = []\n",
        "\n",
        "with torch.no_grad():\n",
        "    for images, labels in test_loader:\n",
        "        images = images.to(device)\n",
        "        labels = labels.to(device)\n",
        "\n",
        "        outputs = model(images)\n",
        "        _, predicted = torch.max(outputs.data, 1)\n",
        "\n",
        "\n",
        "        predicted = predicted.cpu().numpy()\n",
        "        labels = labels.cpu().numpy()\n",
        "\n",
        "\n",
        "        all_predictions.extend(predicted)\n",
        "        all_labels.extend(labels)\n",
        "\n",
        "\n",
        "cm = confusion_matrix(all_labels, all_predictions)\n",
        "\n",
        "\n",
        "print(\"Confusion Matrix:\")\n",
        "print(cm)\n",
        "\n"
      ],
      "metadata": {
        "colab": {
          "base_uri": "https://localhost:8080/"
        },
        "id": "K8f1zHyT85bA",
        "outputId": "78862f89-26d9-48a6-8808-2fa8bff902be"
      },
      "execution_count": null,
      "outputs": [
        {
          "output_type": "stream",
          "name": "stderr",
          "text": [
            "/usr/local/lib/python3.9/dist-packages/torch/utils/data/dataloader.py:561: UserWarning: This DataLoader will create 4 worker processes in total. Our suggested max number of worker in current system is 2, which is smaller than what this DataLoader is going to create. Please be aware that excessive worker creation might get DataLoader running slow or even freeze, lower the worker number to avoid potential slowness/freeze if necessary.\n",
            "  warnings.warn(_create_warning_msg(\n"
          ]
        },
        {
          "output_type": "stream",
          "name": "stdout",
          "text": [
            "Confusion Matrix:\n",
            "[[110   3   5]\n",
            " [  3 112  23]\n",
            " [  4   7  70]]\n"
          ]
        }
      ]
    },
    {
      "cell_type": "code",
      "source": [],
      "metadata": {
        "id": "bw6qqoJGX36h"
      },
      "execution_count": null,
      "outputs": []
    },
    {
      "cell_type": "code",
      "source": [
        "import matplotlib.pyplot as plt\n",
        "import numpy as np\n",
        "import itertools\n",
        "\n",
        "\n",
        "def plot_confusion_matrix(cm, classes, normalize=False, title='Confusion Matrix', cmap=plt.cm.Blues):\n",
        "    if normalize:\n",
        "        cm = cm.astype('float') / cm.sum(axis=1)[:, np.newaxis]\n",
        "\n",
        "    plt.imshow(cm, interpolation='nearest', cmap=cmap)\n",
        "    plt.title(title)\n",
        "    plt.colorbar()\n",
        "\n",
        "    tick_marks = np.arange(len(classes))\n",
        "    plt.xticks(tick_marks, classes, rotation=45)\n",
        "    plt.yticks(tick_marks, classes)\n",
        "\n",
        "    fmt = '.2f' if normalize else 'd'\n",
        "    thresh = cm.max() / 2.\n",
        "\n",
        "    for i, j in itertools.product(range(cm.shape[0]), range(cm.shape[1])):\n",
        "        plt.text(j, i, format(cm[i, j], fmt), horizontalalignment=\"center\",\n",
        "                 color=\"white\" if cm[i, j] > thresh else \"black\")\n",
        "\n",
        "    plt.tight_layout()\n",
        "    plt.ylabel('True Label')\n",
        "    plt.xlabel('Predicted Label')\n",
        "\n",
        "\n",
        "cm = confusion_matrix(all_labels, all_predictions)\n",
        "\n",
        "\n",
        "class_labels = ['Good Road', 'Highly Bad Road','Mildy Bad Road']\n",
        "\n",
        "\n",
        "plt.figure(figsize=(8, 6))\n",
        "plot_confusion_matrix(cm, classes=class_labels, normalize=True, title='Normalized Confusion Matrix')\n",
        "plt.show()"
      ],
      "metadata": {
        "colab": {
          "base_uri": "https://localhost:8080/",
          "height": 626
        },
        "id": "s6LIM2S09hkt",
        "outputId": "fe97efbf-8928-4314-fcf5-94ff68b98ad9"
      },
      "execution_count": null,
      "outputs": [
        {
          "output_type": "display_data",
          "data": {
            "text/plain": [
              "<Figure size 800x600 with 2 Axes>"
            ],
            "image/png": "[encoded data removed]"
          },
          "metadata": {}
        }
      ]
    },
    {
      "cell_type": "code",
      "source": [
        "from sklearn.metrics import classification_report\n",
        "\n",
        "\n",
        "report = classification_report(all_labels, all_predictions, target_names=class_labels)\n",
        "\n",
        "\n",
        "print(\"Classification Report:\")\n",
        "print(report)"
      ],
      "metadata": {
        "colab": {
          "base_uri": "https://localhost:8080/"
        },
        "id": "6zrnVcehVful",
        "outputId": "69ad2082-38de-46a3-9d06-3c51e206b2f7"
      },
      "execution_count": null,
      "outputs": [
        {
          "output_type": "stream",
          "name": "stdout",
          "text": [
            "Classification Report:\n",
            "                 precision    recall  f1-score   support\n",
            "\n",
            "      Good Road       0.94      0.93      0.94       118\n",
            "Highly Bad Road       0.92      0.81      0.86       138\n",
            " Mildy Bad Road       0.71      0.86      0.78        81\n",
            "\n",
            "       accuracy                           0.87       337\n",
            "      macro avg       0.86      0.87      0.86       337\n",
            "   weighted avg       0.88      0.87      0.87       337\n",
            "\n"
          ]
        }
      ]
    }
  ]
}